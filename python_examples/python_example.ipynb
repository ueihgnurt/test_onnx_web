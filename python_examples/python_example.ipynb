{
 "cells": [
  {
   "cell_type": "code",
   "execution_count": null,
   "metadata": {},
   "outputs": [
    {
     "data": {
      "text/plain": [
       "True"
      ]
     },
     "execution_count": 2,
     "metadata": {},
     "output_type": "execute_result"
    }
   ],
   "source": [
    "import cv2\n",
    "import numpy as np\n",
    "import time\n",
    "# Load the ONNX model\n",
    "model_path = r\"test.onnx\"\n",
    "net = cv2.dnn.readNetFromONNX(model_path)\n",
    "# Load and preprocess the image\n",
    "image_path = r\"demo09.jpg\"\n",
    "img = cv2.imread(image_path)\n",
    "input_size = (518, 518)\n",
    "blob = cv2.dnn.blobFromImage(img, scalefactor=1.0/255.0, size=input_size, mean=(0, 0, 0), swapRB=True, crop=False)\n",
    "net.setInput(blob.flatten().reshape(1,3,518,518))\n",
    "out_layers = net.getUnconnectedOutLayersNames()\n",
    "output = net.forward([*out_layers])\n",
    "cv2.imwrite(\"python-test.jpg\",cv2.cvtColor((output[0][0].transpose(1,2,0)*255.0).astype(np.uint8),cv2.COLOR_RGB2BGR))"
   ]
  }
 ],
 "metadata": {
  "kernelspec": {
   "display_name": "exportmodel",
   "language": "python",
   "name": "python3"
  },
  "language_info": {
   "codemirror_mode": {
    "name": "ipython",
    "version": 3
   },
   "file_extension": ".py",
   "mimetype": "text/x-python",
   "name": "python",
   "nbconvert_exporter": "python",
   "pygments_lexer": "ipython3",
   "version": "3.10.10"
  }
 },
 "nbformat": 4,
 "nbformat_minor": 2
}
